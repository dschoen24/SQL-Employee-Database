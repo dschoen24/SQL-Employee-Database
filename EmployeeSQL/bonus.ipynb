{
 "cells": [
  {
   "cell_type": "code",
   "execution_count": 1,
   "metadata": {},
   "outputs": [],
   "source": [
    "%matplotlib inline"
   ]
  },
  {
   "cell_type": "code",
   "execution_count": 2,
   "metadata": {},
   "outputs": [],
   "source": [
    "#import dependencies\n",
    "import sqlalchemy\n",
    "from sqlalchemy import create_engine\n",
    "import pandas as pd\n",
    "import matplotlib.pyplot as plt"
   ]
  },
  {
   "cell_type": "code",
   "execution_count": 3,
   "metadata": {},
   "outputs": [],
   "source": [
    "# from sqlalchemy import create_engine\n",
    "database_path = \"../Data/employees.sqlite\""
   ]
  },
  {
   "cell_type": "code",
   "execution_count": 4,
   "metadata": {},
   "outputs": [],
   "source": [
    "#Create a connection to the sql server/database\n",
    "engine = create_engine(f\"sqlite:///{database_path}\")\n",
    "conn = engine.connect()"
   ]
  },
  {
   "cell_type": "code",
   "execution_count": null,
   "metadata": {},
   "outputs": [],
   "source": [
    "# data = engine.execute(\"SELECT * FROM employees\")\n",
    "# for record in data:\n",
    "#     print(record)"
   ]
  },
  {
   "cell_type": "code",
   "execution_count": null,
   "metadata": {},
   "outputs": [],
   "source": [
    "#Query the salaries table\n",
    "salaries=pd.read_sql(\"SELECT * FROM salaries\",conn)\n",
    "salaries.head()"
   ]
  },
  {
   "cell_type": "code",
   "execution_count": 13,
   "metadata": {},
   "outputs": [
    {
     "ename": "SyntaxError",
     "evalue": "invalid syntax (<ipython-input-13-9f1c8551976a>, line 2)",
     "output_type": "error",
     "traceback": [
      "\u001b[1;36m  File \u001b[1;32m\"<ipython-input-13-9f1c8551976a>\"\u001b[1;36m, line \u001b[1;32m2\u001b[0m\n\u001b[1;33m    Employees = pd.read_sql(\"SELECT * FROM \"Employees\"\", conn)\u001b[0m\n\u001b[1;37m                                            ^\u001b[0m\n\u001b[1;31mSyntaxError\u001b[0m\u001b[1;31m:\u001b[0m invalid syntax\n"
     ]
    }
   ],
   "source": [
    "#Query the employees table\n",
    "Employees = pd.read_sql(\"SELECT * FROM \"Employees\"\", conn)\n",
    "Employees.head()"
   ]
  },
  {
   "cell_type": "code",
   "execution_count": null,
   "metadata": {},
   "outputs": [],
   "source": [
    "#Query the titles table\n",
    "titles = pd.read_sql(\"SELECT * FROM titles\",conn)\n",
    "titles.head()"
   ]
  },
  {
   "cell_type": "code",
   "execution_count": null,
   "metadata": {},
   "outputs": [],
   "source": [
    "#Merge the tables together\n",
    "#First -  join the salaries table to employees table on emp_no\n",
    "emp_sal = employees.merge(salaries, on = \"emp_no\")\n",
    "emp_sal.head()"
   ]
  },
  {
   "cell_type": "code",
   "execution_count": null,
   "metadata": {},
   "outputs": [],
   "source": [
    "#Second - join the titles table to the newly created database (emp_sal) on emp_title_id and title_id\n",
    "final_db = emp_sal.merge(titles, left_on = \"emp_title_id\", right_on = \"title_id\")\n",
    "final_db.head()"
   ]
  },
  {
   "cell_type": "code",
   "execution_count": null,
   "metadata": {},
   "outputs": [],
   "source": [
    "#Extract a database of only the titles and salaries\n",
    "sal_title_db = final_db[['salary','title']]\n",
    "sal_title_db.head()"
   ]
  },
  {
   "cell_type": "code",
   "execution_count": null,
   "metadata": {},
   "outputs": [],
   "source": [
    "#Count the number of rows\n",
    "sal_title_db.count()"
   ]
  },
  {
   "cell_type": "code",
   "execution_count": null,
   "metadata": {},
   "outputs": [],
   "source": [
    "#Group the Titles using groupby and mean() for the Salaries so we can graph\n",
    "#Round() to zero digits since they don't add anything to the data\n",
    "sal_title_db.groupby('title')['salary'].mean().round(0)"
   ]
  },
  {
   "cell_type": "code",
   "execution_count": null,
   "metadata": {},
   "outputs": [],
   "source": [
    "#Create a Histogram of the most common salary ranges for employees\n",
    "sal_title_db.hist(column='salary',color = 'salmon')\n",
    "plt.xlabel('Salary Range')\n",
    "plt.ylabel('Salary Frequency/Count')\n",
    "plt.title('Salary Average Distribution')"
   ]
  },
  {
   "cell_type": "code",
   "execution_count": null,
   "metadata": {},
   "outputs": [],
   "source": [
    " # Create a Bar Chart of Average Salary by title\n",
    "sal_title_db2 = sal_title_db.groupby(['title'])['salary'].mean()\n",
    "sal_title_db2.plot.barh(color='lightblue')\n",
    "plt.ylabel('Job Title')\n",
    "plt.xlabel('Avg Salary')\n",
    "plt.title('A Look at Salary Averages Across Job Titles')\n",
    "plt.show()"
   ]
  },
  {
   "cell_type": "code",
   "execution_count": null,
   "metadata": {},
   "outputs": [],
   "source": [
    "emp = final_db.loc[final_db['emp_no'] == 499942]\n",
    "emp"
   ]
  }
 ],
 "metadata": {
  "kernelspec": {
   "display_name": "Python 3",
   "language": "python",
   "name": "python3"
  },
  "language_info": {
   "codemirror_mode": {
    "name": "ipython",
    "version": 3
   },
   "file_extension": ".py",
   "mimetype": "text/x-python",
   "name": "python",
   "nbconvert_exporter": "python",
   "pygments_lexer": "ipython3",
   "version": "3.8.5"
  }
 },
 "nbformat": 4,
 "nbformat_minor": 4
}
